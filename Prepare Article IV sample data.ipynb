{
 "cells": [
  {
   "cell_type": "code",
   "execution_count": 4,
   "metadata": {},
   "outputs": [],
   "source": [
    "import pandas as pd\n",
    "import pickle\n",
    "import numpy as np\n",
    "import pyodbc"
   ]
  },
  {
   "cell_type": "code",
   "execution_count": 5,
   "metadata": {},
   "outputs": [],
   "source": [
    "with open('us_all_data.p', 'rb') as f:\n",
    "    us_results = pickle.load(f)\n",
    "\n",
    "with open('uk_all_data.p', 'rb') as f:\n",
    "    uk_results = pickle.load(f)"
   ]
  },
  {
   "cell_type": "code",
   "execution_count": 6,
   "metadata": {
    "collapsed": true
   },
   "outputs": [],
   "source": [
    "def clean_text(text):\n",
    "    from bs4 import BeautifulSoup\n",
    "    soup = BeautifulSoup(text, 'xml')\n",
    "    for tag in soup.body.find_all(['fig']):\n",
    "        tag.decompose()\n",
    "    sections = soup.find_all('sec')\n",
    "    sections = [sec.get_text() for sec in sections]\n",
    "    #To exclude the 1st page of the report\n",
    "    sections = [sec for sec in sections if len(re.findall(r'telephone', sec, flags = re.IGNORECASE))==0 ]\n",
    "    relevance = sections[:3]\n",
    "    \n",
    "    return '\\n'.join(relevance)"
   ]
  },
  {
   "cell_type": "code",
   "execution_count": null,
   "metadata": {
    "collapsed": true
   },
   "outputs": [],
   "source": [
    "keywords = ['\\\\beconomic outlook\\\\b','\\\\brecent economic development\\\\b',\n",
    "            '\\\\bkey issues\\\\b','\\\\bbackdrop\\\\b','\\\\bstaff appraisal\\\\b',\n",
    "            '\\\\boverview\\\\b','\\\\boutlook\\\\b','\\\\bintroduction\\\\b']\n",
    "\n",
    "import re\n",
    "\n",
    "country =[]\n",
    "year = []\n",
    "published_date = []\n",
    "content = []\n",
    "for i in range(len(us_results)):\n",
    "    if len(re.findall(r'|'.join(keywords), us_results[i].Content, flags = re.IGNORECASE ))>0:\n",
    "        country.append(us_results[i].Country)\n",
    "        year.append(us_results[i].ProjectedYear)\n",
    "        published_date.append(us_results[i].PublicationDate)\n",
    "        text = clean_text(us_results[i].Content)\n",
    "        content.append(text)\n",
    "\n",
    "for i in range(len(uk_results)):\n",
    "    if len(re.findall(r'|'.join(keywords), uk_results[i].Content, flags = re.IGNORECASE ))>0:\n",
    "        country.append(uk_results[i].Country)\n",
    "        year.append(uk_results[i].ProjectedYear)\n",
    "        published_date.append(uk_results[i].PublicationDate)\n",
    "        text = clean_text(uk_results[i].Content)\n",
    "        content.append(text)"
   ]
  },
  {
   "cell_type": "code",
   "execution_count": null,
   "metadata": {
    "collapsed": true
   },
   "outputs": [],
   "source": [
    "sample_data = dict({'Country': country,\n",
    "                 'ProjectedYear': year,\n",
    "                 'PublishedDate': published_date,\n",
    "                 'Content': content})"
   ]
  },
  {
   "cell_type": "code",
   "execution_count": null,
   "metadata": {
    "collapsed": true
   },
   "outputs": [],
   "source": [
    "pickle.dump(sample_data, open('sample_data_1.p',\"wb\"))"
   ]
  }
 ],
 "metadata": {
  "anaconda-cloud": {},
  "kernelspec": {
   "display_name": "Python [conda root]",
   "language": "python",
   "name": "conda-root-py"
  },
  "language_info": {
   "codemirror_mode": {
    "name": "ipython",
    "version": 3
   },
   "file_extension": ".py",
   "mimetype": "text/x-python",
   "name": "python",
   "nbconvert_exporter": "python",
   "pygments_lexer": "ipython3",
   "version": "3.5.2"
  }
 },
 "nbformat": 4,
 "nbformat_minor": 1
}
