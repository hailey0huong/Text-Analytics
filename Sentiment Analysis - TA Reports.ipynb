{
 "cells": [
  {
   "cell_type": "markdown",
   "metadata": {},
   "source": [
    "# Sentiment Analysis for IMF's Technical Assistance Reports \n",
    "\n",
    "Data: this analysis uses only publicly available reports. Pdf files can be downloaded directly from the IMF website."
   ]
  },
  {
   "cell_type": "markdown",
   "metadata": {},
   "source": [
    "## Data Prep"
   ]
  },
  {
   "cell_type": "code",
   "execution_count": 1,
   "metadata": {
    "collapsed": true
   },
   "outputs": [],
   "source": [
    "import pickle\n",
    "import gensim\n",
    "import numpy as np\n",
    "import nltk\n",
    "import re\n",
    "from nltk.corpus import wordnet as wn\n",
    "import pandas as pd\n",
    "from nltk.stem import WordNetLemmatizer\n",
    "from sklearn.feature_extraction.text import CountVectorizer\n",
    "from nltk.tokenize import word_tokenize,sent_tokenize\n",
    "import seaborn as sns\n",
    "import matplotlib.pyplot as plt\n",
    "%load_ext Cython"
   ]
  },
  {
   "cell_type": "code",
   "execution_count": 2,
   "metadata": {
    "collapsed": true
   },
   "outputs": [],
   "source": [
    "with open('TA_processed_xml.p', 'rb') as f:\n",
    "    TA_all_data = pickle.load(f)"
   ]
  },
  {
   "cell_type": "code",
   "execution_count": 3,
   "metadata": {},
   "outputs": [
    {
     "data": {
      "text/plain": [
       "70"
      ]
     },
     "execution_count": 3,
     "metadata": {},
     "output_type": "execute_result"
    }
   ],
   "source": [
    "len(TA_all_data)"
   ]
  },
  {
   "cell_type": "code",
   "execution_count": 4,
   "metadata": {
    "collapsed": true
   },
   "outputs": [],
   "source": [
    "#Function to create a dataframe from a document object\n",
    "def create_df_from_doc_obj(doc_obj):\n",
    "    df = pd.DataFrame({'doc_seriesNo': doc_obj.series_id,\n",
    "                       'doc_PublisherId': doc_obj.PublisherId,\n",
    "                        'Country': doc_obj.country,\n",
    "                         'Year': doc_obj.ProjectedYear,\n",
    "                        'Para_id': range(len(doc_obj.paras)),\n",
    "                        'Paragraph': doc_obj.paras})\n",
    "    df = df[['doc_seriesNo','doc_PublisherId','Country','Year','Para_id','Paragraph']]\n",
    "    \n",
    "    return df"
   ]
  },
  {
   "cell_type": "code",
   "execution_count": 5,
   "metadata": {
    "collapsed": true
   },
   "outputs": [],
   "source": [
    "test_df = create_df_from_doc_obj(TA_all_data[113])"
   ]
  },
  {
   "cell_type": "code",
   "execution_count": 6,
   "metadata": {},
   "outputs": [
    {
     "data": {
      "text/html": [
       "<div>\n",
       "<table border=\"1\" class=\"dataframe\">\n",
       "  <thead>\n",
       "    <tr style=\"text-align: right;\">\n",
       "      <th></th>\n",
       "      <th>doc_seriesNo</th>\n",
       "      <th>doc_PublisherId</th>\n",
       "      <th>Country</th>\n",
       "      <th>Year</th>\n",
       "      <th>Para_id</th>\n",
       "      <th>Paragraph</th>\n",
       "    </tr>\n",
       "  </thead>\n",
       "  <tbody>\n",
       "    <tr>\n",
       "      <th>0</th>\n",
       "      <td>113</td>\n",
       "      <td>24415-9781484307489_A001_002</td>\n",
       "      <td>Botswana</td>\n",
       "      <td>2018</td>\n",
       "      <td>0</td>\n",
       "      <td>1. Public investment has been a key element of...</td>\n",
       "    </tr>\n",
       "    <tr>\n",
       "      <th>1</th>\n",
       "      <td>113</td>\n",
       "      <td>24415-9781484307489_A001_002</td>\n",
       "      <td>Botswana</td>\n",
       "      <td>2018</td>\n",
       "      <td>1</td>\n",
       "      <td>2. Despite a high dependency on mineral revenu...</td>\n",
       "    </tr>\n",
       "    <tr>\n",
       "      <th>2</th>\n",
       "      <td>113</td>\n",
       "      <td>24415-9781484307489_A001_002</td>\n",
       "      <td>Botswana</td>\n",
       "      <td>2018</td>\n",
       "      <td>2</td>\n",
       "      <td>3. By 2015, public spending ratios in Botswana...</td>\n",
       "    </tr>\n",
       "    <tr>\n",
       "      <th>3</th>\n",
       "      <td>113</td>\n",
       "      <td>24415-9781484307489_A001_002</td>\n",
       "      <td>Botswana</td>\n",
       "      <td>2018</td>\n",
       "      <td>3</td>\n",
       "      <td>4. Consistent with relatively high public inve...</td>\n",
       "    </tr>\n",
       "    <tr>\n",
       "      <th>4</th>\n",
       "      <td>113</td>\n",
       "      <td>24415-9781484307489_A001_002</td>\n",
       "      <td>Botswana</td>\n",
       "      <td>2018</td>\n",
       "      <td>4</td>\n",
       "      <td>5. Botswana’s public investment is quite volat...</td>\n",
       "    </tr>\n",
       "  </tbody>\n",
       "</table>\n",
       "</div>"
      ],
      "text/plain": [
       "   doc_seriesNo               doc_PublisherId   Country  Year  Para_id  \\\n",
       "0           113  24415-9781484307489_A001_002  Botswana  2018        0   \n",
       "1           113  24415-9781484307489_A001_002  Botswana  2018        1   \n",
       "2           113  24415-9781484307489_A001_002  Botswana  2018        2   \n",
       "3           113  24415-9781484307489_A001_002  Botswana  2018        3   \n",
       "4           113  24415-9781484307489_A001_002  Botswana  2018        4   \n",
       "\n",
       "                                           Paragraph  \n",
       "0  1. Public investment has been a key element of...  \n",
       "1  2. Despite a high dependency on mineral revenu...  \n",
       "2  3. By 2015, public spending ratios in Botswana...  \n",
       "3  4. Consistent with relatively high public inve...  \n",
       "4  5. Botswana’s public investment is quite volat...  "
      ]
     },
     "execution_count": 6,
     "metadata": {},
     "output_type": "execute_result"
    }
   ],
   "source": [
    "test_df.head()"
   ]
  },
  {
   "cell_type": "code",
   "execution_count": 7,
   "metadata": {
    "collapsed": true
   },
   "outputs": [],
   "source": [
    "#Combine all document objects into one dataframe\n",
    "TA_df = pd.DataFrame()\n",
    "for doc in TA_all_data:\n",
    "    df = create_df_from_doc_obj(TA_all_data[doc])\n",
    "    TA_df = TA_df.append(df)"
   ]
  },
  {
   "cell_type": "code",
   "execution_count": 8,
   "metadata": {},
   "outputs": [
    {
     "data": {
      "text/plain": [
       "70"
      ]
     },
     "execution_count": 8,
     "metadata": {},
     "output_type": "execute_result"
    }
   ],
   "source": [
    "len(set(TA_df.doc_seriesNo))"
   ]
  },
  {
   "cell_type": "code",
   "execution_count": 9,
   "metadata": {},
   "outputs": [
    {
     "data": {
      "text/plain": [
       "Year\n",
       "2006     1\n",
       "2010     1\n",
       "2012     1\n",
       "2013     7\n",
       "2014     7\n",
       "2015     6\n",
       "2016    16\n",
       "2017    12\n",
       "2018     3\n",
       "Name: Country, dtype: int64"
      ]
     },
     "execution_count": 9,
     "metadata": {},
     "output_type": "execute_result"
    }
   ],
   "source": [
    "TA_df.groupby('Year')['Country'].nunique()"
   ]
  },
  {
   "cell_type": "code",
   "execution_count": 10,
   "metadata": {},
   "outputs": [
    {
     "data": {
      "text/plain": [
       "Country\n",
       "Bhutan                                      1\n",
       "Botswana                                    3\n",
       "Bulgaria                                    1\n",
       "Colombia                                    1\n",
       "Denmark                                     1\n",
       "Estonia                                     1\n",
       "Finland                                     1\n",
       "Gambia, The;Malawi;Uganda;Tanzania;Ghana    1\n",
       "Georgia                                     1\n",
       "Guatemala                                   1\n",
       "Hungary                                     2\n",
       "Iceland                                     3\n",
       "Israel                                      2\n",
       "Italy                                       2\n",
       "Jamaica                                     1\n",
       "Japan                                       1\n",
       "Kosovo                                      2\n",
       "Libyan  Arab Jamahiriya                     1\n",
       "Macedonia, former Yugoslav Republic of      1\n",
       "Malawi                                      1\n",
       "Malaysia                                    1\n",
       "Mali                                        3\n",
       "Mali;France                                 1\n",
       "Mauritania;Mali;Burkina Faso                1\n",
       "Mongolia                                    2\n",
       "Paraguay                                    1\n",
       "Peru                                        1\n",
       "Poland                                      3\n",
       "Portugal                                    1\n",
       "Romania                                     1\n",
       "Slovenia                                    2\n",
       "South Africa                                2\n",
       "Togo                                        1\n",
       "Ukraine                                     2\n",
       "United Kingdom                              1\n",
       "Zambia                                      1\n",
       "Zimbabwe                                    2\n",
       "Name: Year, dtype: int64"
      ]
     },
     "execution_count": 10,
     "metadata": {},
     "output_type": "execute_result"
    }
   ],
   "source": [
    "TA_df.groupby('Country')['Year'].nunique()"
   ]
  },
  {
   "cell_type": "markdown",
   "metadata": {},
   "source": [
    "## Method 1: Using a list of positive and negative vocabulary\n",
    "\n",
    "1. Search negative and positive words in each paragraph of a document\n",
    "2. Negate positive words within 3 words of negative words ('not','no','nobody','none','never','neither','cannot')\n",
    "3. Do not negate negative words\n",
    "4. Calculate a sentiment index by country and period:\n",
    "        index = (#Positive words - #Negative words) / #Total words\n",
    "\n",
    "\n",
    "Reference: \n",
    "Correa, Ricardo, Keshav Garud, Juan M. Londono, and\n",
    "Nathan Mislang (2017). Sentiment in Central Banks’ Financial\n",
    "Stability Reports. International Finance Discussion Papers 1203. "
   ]
  },
  {
   "cell_type": "code",
   "execution_count": 11,
   "metadata": {
    "collapsed": true
   },
   "outputs": [],
   "source": [
    "sentiment_words = pd.read_csv('sentiment_words.csv')"
   ]
  },
  {
   "cell_type": "code",
   "execution_count": 12,
   "metadata": {
    "collapsed": true
   },
   "outputs": [],
   "source": [
    "pos_words = [word for word in sentiment_words.pos if isinstance(word, str) ]\n",
    "neg_words = [word for word in sentiment_words.neg if isinstance(word, str) ]"
   ]
  },
  {
   "cell_type": "code",
   "execution_count": 13,
   "metadata": {
    "collapsed": true
   },
   "outputs": [],
   "source": [
    "pos_words_1 = ['\\\\b'+word+'\\\\b' for word in pos_words] #to find exact words\n",
    "neg_words_1 = ['\\\\b'+word+'\\\\b' for word in neg_words]\n",
    "\n",
    "pos_pattern = '|'.join(pos_words_1)\n",
    "neg_pattern = '|'.join(neg_words_1)"
   ]
  },
  {
   "cell_type": "code",
   "execution_count": 14,
   "metadata": {
    "collapsed": true
   },
   "outputs": [],
   "source": [
    "TA_df['No_pos_words'] = TA_df.Paragraph.apply(lambda para: len(re.findall(pos_pattern, para, flags=re.IGNORECASE)))\n",
    "TA_df['No_neg_words'] = TA_df.Paragraph.apply(lambda para: len(re.findall(neg_pattern, para, flags=re.IGNORECASE)))"
   ]
  },
  {
   "cell_type": "code",
   "execution_count": 15,
   "metadata": {
    "collapsed": true
   },
   "outputs": [],
   "source": [
    "from nltk.corpus import stopwords\n",
    "\n",
    "negation_list = ['not','no','nobody','none','never','neither','cannot']\n",
    "\n",
    "stopw = stopwords.words('english')\n",
    "stopw = [s for s in stopw if s not in negation_list]\n",
    "lemmatizer = WordNetLemmatizer()\n",
    "\n",
    "\n",
    "#Function to get a list of 3 words before and after the keyword\n",
    "def get_words_to_check_negation(words, idx, ran = 3):\n",
    "    sent_length = len(words)\n",
    "    nidx = [idx-ran, idx+ran]\n",
    "    if nidx[0]<0: nidx[0]= 0\n",
    "    if nidx[1] >sent_length+1: nidx[1] = sent_length+1\n",
    "    negation_checklist = words[nidx[0]: nidx[1]]\n",
    "    return negation_checklist\n",
    "\n",
    "\n",
    "#Function to count number of positive words and negative words in a paragraph\n",
    "def count_pos_neg_words(paragraph, negation_list):\n",
    "    #1. Tokenize sentence:\n",
    "    sent = sent_tokenize(paragraph)\n",
    "    #2. Tokenize words in a sentence and calculate positive and negative words:\n",
    "    pos = 0\n",
    "    neg = 0\n",
    "    for s in sent:\n",
    "        words = word_tokenize(s.lower())\n",
    "        for idx, w in enumerate(words):\n",
    "            if w in pos_words:               \n",
    "                negation_check = get_words_to_check_negation(words, idx, 3)\n",
    "                list_negation = [t for t in negation_check if t in negation_list]\n",
    "                if len(list_negation) == 0: pos+=1\n",
    "                else: neg+=1\n",
    "            elif w in neg_words:\n",
    "                neg+=1\n",
    "    return pos, neg\n",
    "\n",
    "#Function to get the count of tokens in a paragraph\n",
    "def count_number_of_tokens(paragraph, negation_list, lemmatizer, stopw):\n",
    "    tokens = word_tokenize(paragraph.lower())\n",
    "    tokens = [t for t in tokens if t.isalpha()] #to eliminate non characters\n",
    "    tokens = [lemmatizer.lemmatize(t) for t in tokens]\n",
    "    tokens = [t for t in tokens if t not in stopw]\n",
    "    return len(tokens)"
   ]
  },
  {
   "cell_type": "code",
   "execution_count": 16,
   "metadata": {
    "collapsed": true
   },
   "outputs": [],
   "source": [
    "TA_df['sentiment'] = TA_df.Paragraph.apply(lambda para: \n",
    "                                           count_pos_neg_words(para,negation_list))\n",
    "TA_df['total_tokens'] = TA_df.Paragraph.apply(lambda para: \n",
    "                                              count_number_of_tokens(para,negation_list, lemmatizer, stopw))\n",
    "TA_df[['sentiment_pos','sentiment_neg']] = TA_df.sentiment.apply(pd.Series)"
   ]
  },
  {
   "cell_type": "code",
   "execution_count": 17,
   "metadata": {},
   "outputs": [
    {
     "data": {
      "text/html": [
       "<div>\n",
       "<table border=\"1\" class=\"dataframe\">\n",
       "  <thead>\n",
       "    <tr style=\"text-align: right;\">\n",
       "      <th></th>\n",
       "      <th>doc_seriesNo</th>\n",
       "      <th>doc_PublisherId</th>\n",
       "      <th>Country</th>\n",
       "      <th>Year</th>\n",
       "      <th>Para_id</th>\n",
       "      <th>Paragraph</th>\n",
       "      <th>No_pos_words</th>\n",
       "      <th>No_neg_words</th>\n",
       "      <th>sentiment</th>\n",
       "      <th>total_tokens</th>\n",
       "      <th>sentiment_pos</th>\n",
       "      <th>sentiment_neg</th>\n",
       "    </tr>\n",
       "  </thead>\n",
       "  <tbody>\n",
       "    <tr>\n",
       "      <th>0</th>\n",
       "      <td>1536</td>\n",
       "      <td>22840-9781513535890_A001_002</td>\n",
       "      <td>Malaysia</td>\n",
       "      <td>2016</td>\n",
       "      <td>0</td>\n",
       "      <td>1. Malaysia’s economy has performed strongly s...</td>\n",
       "      <td>0</td>\n",
       "      <td>0</td>\n",
       "      <td>(0, 0)</td>\n",
       "      <td>20</td>\n",
       "      <td>0</td>\n",
       "      <td>0</td>\n",
       "    </tr>\n",
       "    <tr>\n",
       "      <th>1</th>\n",
       "      <td>1536</td>\n",
       "      <td>22840-9781513535890_A001_002</td>\n",
       "      <td>Malaysia</td>\n",
       "      <td>2016</td>\n",
       "      <td>1</td>\n",
       "      <td>2. The government has a clear vision for Malay...</td>\n",
       "      <td>1</td>\n",
       "      <td>0</td>\n",
       "      <td>(1, 0)</td>\n",
       "      <td>41</td>\n",
       "      <td>1</td>\n",
       "      <td>0</td>\n",
       "    </tr>\n",
       "    <tr>\n",
       "      <th>2</th>\n",
       "      <td>1536</td>\n",
       "      <td>22840-9781513535890_A001_002</td>\n",
       "      <td>Malaysia</td>\n",
       "      <td>2016</td>\n",
       "      <td>2</td>\n",
       "      <td>To achieve these goals, the plan set out five ...</td>\n",
       "      <td>0</td>\n",
       "      <td>1</td>\n",
       "      <td>(0, 1)</td>\n",
       "      <td>46</td>\n",
       "      <td>0</td>\n",
       "      <td>1</td>\n",
       "    </tr>\n",
       "    <tr>\n",
       "      <th>3</th>\n",
       "      <td>1536</td>\n",
       "      <td>22840-9781513535890_A001_002</td>\n",
       "      <td>Malaysia</td>\n",
       "      <td>2016</td>\n",
       "      <td>3</td>\n",
       "      <td>3. Prudent fiscal management plays an importan...</td>\n",
       "      <td>3</td>\n",
       "      <td>0</td>\n",
       "      <td>(3, 0)</td>\n",
       "      <td>33</td>\n",
       "      <td>3</td>\n",
       "      <td>0</td>\n",
       "    </tr>\n",
       "    <tr>\n",
       "      <th>4</th>\n",
       "      <td>1536</td>\n",
       "      <td>22840-9781513535890_A001_002</td>\n",
       "      <td>Malaysia</td>\n",
       "      <td>2016</td>\n",
       "      <td>4</td>\n",
       "      <td>4. As part of its strategy for prudent fiscal ...</td>\n",
       "      <td>0</td>\n",
       "      <td>0</td>\n",
       "      <td>(0, 0)</td>\n",
       "      <td>38</td>\n",
       "      <td>0</td>\n",
       "      <td>0</td>\n",
       "    </tr>\n",
       "  </tbody>\n",
       "</table>\n",
       "</div>"
      ],
      "text/plain": [
       "   doc_seriesNo               doc_PublisherId   Country  Year  Para_id  \\\n",
       "0          1536  22840-9781513535890_A001_002  Malaysia  2016        0   \n",
       "1          1536  22840-9781513535890_A001_002  Malaysia  2016        1   \n",
       "2          1536  22840-9781513535890_A001_002  Malaysia  2016        2   \n",
       "3          1536  22840-9781513535890_A001_002  Malaysia  2016        3   \n",
       "4          1536  22840-9781513535890_A001_002  Malaysia  2016        4   \n",
       "\n",
       "                                           Paragraph  No_pos_words  \\\n",
       "0  1. Malaysia’s economy has performed strongly s...             0   \n",
       "1  2. The government has a clear vision for Malay...             1   \n",
       "2  To achieve these goals, the plan set out five ...             0   \n",
       "3  3. Prudent fiscal management plays an importan...             3   \n",
       "4  4. As part of its strategy for prudent fiscal ...             0   \n",
       "\n",
       "   No_neg_words sentiment  total_tokens  sentiment_pos  sentiment_neg  \n",
       "0             0    (0, 0)            20              0              0  \n",
       "1             0    (1, 0)            41              1              0  \n",
       "2             1    (0, 1)            46              0              1  \n",
       "3             0    (3, 0)            33              3              0  \n",
       "4             0    (0, 0)            38              0              0  "
      ]
     },
     "execution_count": 17,
     "metadata": {},
     "output_type": "execute_result"
    }
   ],
   "source": [
    "TA_df.head()"
   ]
  },
  {
   "cell_type": "code",
   "execution_count": 18,
   "metadata": {},
   "outputs": [
    {
     "name": "stdout",
     "output_type": "stream",
     "text": [
      "(201, 12)\n",
      "(201, 12)\n"
     ]
    }
   ],
   "source": [
    "print(TA_df.loc[TA_df.No_pos_words != TA_df.sentiment_pos].shape)\n",
    "print(TA_df.loc[TA_df.No_pos_words > TA_df.sentiment_pos].shape)"
   ]
  },
  {
   "cell_type": "code",
   "execution_count": 19,
   "metadata": {},
   "outputs": [
    {
     "name": "stdout",
     "output_type": "stream",
     "text": [
      "Paragraph: 133. The Performance and Evaluation Sector should lead the effort to introduce guidance for ministries, departments, and agencies on conducting program evaluations. Evaluation is applied sporadically in government and therefore does not adequately inform planning, policy-making, and budgeting. As a result there are often missed opportunities to improve the relevance, effectiveness, efficiency, impact, and sustainability of government programs. Evaluation is a type of applied research that attempts to identify cause-effect relationships within a specific context. In this report evaluation is defined as the systematic collection and objective analysis of evidence on public policies, programs, projects, functions and organizations to assess issues such as performance, value for money, impact and sustainability, and recommend opportunities for improvements.\n",
      "\n",
      "Clean bag of words: ['performance', 'evaluation', 'sector', 'lead', 'effort', 'introduce', 'guidance', 'ministry', 'department', 'agency', 'conducting', 'program', 'evaluation', 'evaluation', 'applied', 'sporadically', 'government', 'therefore', 'doe', 'not', 'adequately', 'inform', 'planning', 'budgeting', 'result', 'often', 'missed', 'opportunity', 'improve', 'relevance', 'effectiveness', 'efficiency', 'impact', 'sustainability', 'government', 'program', 'evaluation', 'type', 'applied', 'research', 'attempt', 'identify', 'relationship', 'within', 'specific', 'context', 'report', 'evaluation', 'defined', 'systematic', 'collection', 'objective', 'analysis', 'evidence', 'public', 'policy', 'program', 'project', 'function', 'organization', 'ass', 'issue', 'performance', 'value', 'money', 'impact', 'sustainability', 'recommend', 'opportunity', 'improvement']\n",
      "\n",
      "Words that re.findall function found: \n",
      "Positive: ['adequately', 'improve', 'improvements'] \n",
      "Negative: []\n"
     ]
    }
   ],
   "source": [
    "#Check discrepancy between No_pos_words and sentiment_pos:\n",
    "test_1 = TA_df.iloc[173,5]\n",
    "tokens = word_tokenize(test_1.lower())\n",
    "tokens = [t for t in tokens if t.isalpha()] #to eliminate non characters\n",
    "tokens = [lemmatizer.lemmatize(t) for t in tokens]\n",
    "tokens = [t for t in tokens if t not in stopw]\n",
    "\n",
    "print ('Paragraph:',test_1)\n",
    "print ('\\nClean bag of words:', tokens)\n",
    "print ('\\nWords that re.findall function found: \\nPositive:',\n",
    "       re.findall(pos_pattern, test_1, flags=re.IGNORECASE),\n",
    "       '\\nNegative:', re.findall(neg_pattern, test_1,flags=re.IGNORECASE))"
   ]
  },
  {
   "cell_type": "code",
   "execution_count": 20,
   "metadata": {
    "collapsed": true
   },
   "outputs": [],
   "source": [
    "TA_unique_df = TA_df.groupby(['Country','Year'], \n",
    "                             as_index = False)['sentiment_pos',\n",
    "                                               'sentiment_neg',\n",
    "                                                'total_tokens'].sum()\n",
    "\n",
    "TA_unique_df['sentiment_index'] = (TA_unique_df.sentiment_pos - TA_unique_df.sentiment_neg)/TA_unique_df.total_tokens"
   ]
  },
  {
   "cell_type": "code",
   "execution_count": 21,
   "metadata": {
    "scrolled": true
   },
   "outputs": [
    {
     "name": "stdout",
     "output_type": "stream",
     "text": [
      "(54, 6)\n"
     ]
    },
    {
     "data": {
      "text/html": [
       "<div>\n",
       "<table border=\"1\" class=\"dataframe\">\n",
       "  <thead>\n",
       "    <tr style=\"text-align: right;\">\n",
       "      <th></th>\n",
       "      <th>Country</th>\n",
       "      <th>Year</th>\n",
       "      <th>sentiment_pos</th>\n",
       "      <th>sentiment_neg</th>\n",
       "      <th>total_tokens</th>\n",
       "      <th>sentiment_index</th>\n",
       "    </tr>\n",
       "  </thead>\n",
       "  <tbody>\n",
       "    <tr>\n",
       "      <th>0</th>\n",
       "      <td>Bhutan</td>\n",
       "      <td>2014</td>\n",
       "      <td>98</td>\n",
       "      <td>26</td>\n",
       "      <td>4786</td>\n",
       "      <td>0.015044</td>\n",
       "    </tr>\n",
       "    <tr>\n",
       "      <th>1</th>\n",
       "      <td>Botswana</td>\n",
       "      <td>2015</td>\n",
       "      <td>91</td>\n",
       "      <td>69</td>\n",
       "      <td>9240</td>\n",
       "      <td>0.002381</td>\n",
       "    </tr>\n",
       "    <tr>\n",
       "      <th>2</th>\n",
       "      <td>Botswana</td>\n",
       "      <td>2017</td>\n",
       "      <td>79</td>\n",
       "      <td>130</td>\n",
       "      <td>7555</td>\n",
       "      <td>-0.006750</td>\n",
       "    </tr>\n",
       "    <tr>\n",
       "      <th>3</th>\n",
       "      <td>Botswana</td>\n",
       "      <td>2018</td>\n",
       "      <td>42</td>\n",
       "      <td>50</td>\n",
       "      <td>5277</td>\n",
       "      <td>-0.001516</td>\n",
       "    </tr>\n",
       "    <tr>\n",
       "      <th>4</th>\n",
       "      <td>Bulgaria</td>\n",
       "      <td>2016</td>\n",
       "      <td>31</td>\n",
       "      <td>23</td>\n",
       "      <td>3411</td>\n",
       "      <td>0.002345</td>\n",
       "    </tr>\n",
       "  </tbody>\n",
       "</table>\n",
       "</div>"
      ],
      "text/plain": [
       "    Country  Year  sentiment_pos  sentiment_neg  total_tokens  sentiment_index\n",
       "0    Bhutan  2014             98             26          4786         0.015044\n",
       "1  Botswana  2015             91             69          9240         0.002381\n",
       "2  Botswana  2017             79            130          7555        -0.006750\n",
       "3  Botswana  2018             42             50          5277        -0.001516\n",
       "4  Bulgaria  2016             31             23          3411         0.002345"
      ]
     },
     "execution_count": 21,
     "metadata": {},
     "output_type": "execute_result"
    }
   ],
   "source": [
    "print(TA_unique_df.shape)\n",
    "TA_unique_df.head()"
   ]
  },
  {
   "cell_type": "code",
   "execution_count": 58,
   "metadata": {},
   "outputs": [
    {
     "data": {
      "text/html": [
       "<div>\n",
       "<table border=\"1\" class=\"dataframe\">\n",
       "  <thead>\n",
       "    <tr style=\"text-align: right;\">\n",
       "      <th></th>\n",
       "      <th>Country</th>\n",
       "      <th>Year</th>\n",
       "      <th>sentiment_pos</th>\n",
       "      <th>sentiment_neg</th>\n",
       "      <th>total_tokens</th>\n",
       "      <th>sentiment_index</th>\n",
       "    </tr>\n",
       "  </thead>\n",
       "  <tbody>\n",
       "    <tr>\n",
       "      <th>14</th>\n",
       "      <td>Iceland</td>\n",
       "      <td>2012</td>\n",
       "      <td>56</td>\n",
       "      <td>56</td>\n",
       "      <td>10169</td>\n",
       "      <td>0.000000</td>\n",
       "    </tr>\n",
       "    <tr>\n",
       "      <th>15</th>\n",
       "      <td>Iceland</td>\n",
       "      <td>2015</td>\n",
       "      <td>99</td>\n",
       "      <td>66</td>\n",
       "      <td>13161</td>\n",
       "      <td>0.002507</td>\n",
       "    </tr>\n",
       "    <tr>\n",
       "      <th>16</th>\n",
       "      <td>Iceland</td>\n",
       "      <td>2016</td>\n",
       "      <td>119</td>\n",
       "      <td>41</td>\n",
       "      <td>7235</td>\n",
       "      <td>0.010781</td>\n",
       "    </tr>\n",
       "  </tbody>\n",
       "</table>\n",
       "</div>"
      ],
      "text/plain": [
       "    Country  Year  sentiment_pos  sentiment_neg  total_tokens  sentiment_index\n",
       "14  Iceland  2012             56             56         10169         0.000000\n",
       "15  Iceland  2015             99             66         13161         0.002507\n",
       "16  Iceland  2016            119             41          7235         0.010781"
      ]
     },
     "execution_count": 58,
     "metadata": {},
     "output_type": "execute_result"
    }
   ],
   "source": [
    "TA_unique_df.loc[TA_unique_df['Country']=='Iceland']"
   ]
  },
  {
   "cell_type": "code",
   "execution_count": 60,
   "metadata": {},
   "outputs": [
    {
     "data": {
      "image/png": "[encoded data removed]",
      "text/plain": [
       "<matplotlib.figure.Figure at 0x12e504828>"
      ]
     },
     "metadata": {},
     "output_type": "display_data"
    }
   ],
   "source": [
    "plt.figure(figsize=(12,16))\n",
    "sns.barplot(x = 'sentiment_index', y= 'Country',hue = 'Year', data = TA_unique_df, dodge=False)\n",
    "plt.legend(title = 'Year', loc='upper left', bbox_to_anchor=(1, 1))\n",
    "plt.show()"
   ]
  },
  {
   "cell_type": "markdown",
   "metadata": {},
   "source": [
    "## Method 2: Using sentiment labeled financial news "
   ]
  },
  {
   "cell_type": "markdown",
   "metadata": {},
   "source": [
    "### Overview of training dataset\n",
    "\n",
    "##### Economic News Article Tone and Relevance\n",
    "\n",
    "Contributors read snippets of news articles. They then noted if the article was relevant to the US economy and, if so, what the tone of the article was. Tone was judged on a 9 point scale (from 1 to 9, with 1 representing the most negativity). Dataset contains these judgments as well as the dates, source titles, and text. Dates range from 1951 to 2014.\n",
    "\n",
    "Added: December 8, 2015 by CrowdFlower | Data Rows: 8000\n",
    "\n"
   ]
  },
  {
   "cell_type": "code",
   "execution_count": 23,
   "metadata": {
    "collapsed": true
   },
   "outputs": [],
   "source": [
    "labeled_news = pd.read_csv('Full-Economic-News-DFE-839861.csv',encoding = 'ISO-8859-1')"
   ]
  },
  {
   "cell_type": "code",
   "execution_count": 24,
   "metadata": {},
   "outputs": [
    {
     "data": {
      "text/html": [
       "<div>\n",
       "<table border=\"1\" class=\"dataframe\">\n",
       "  <thead>\n",
       "    <tr style=\"text-align: right;\">\n",
       "      <th></th>\n",
       "      <th>_unit_id</th>\n",
       "      <th>_golden</th>\n",
       "      <th>_unit_state</th>\n",
       "      <th>_trusted_judgments</th>\n",
       "      <th>_last_judgment_at</th>\n",
       "      <th>positivity</th>\n",
       "      <th>positivity:confidence</th>\n",
       "      <th>relevance</th>\n",
       "      <th>relevance:confidence</th>\n",
       "      <th>articleid</th>\n",
       "      <th>date</th>\n",
       "      <th>headline</th>\n",
       "      <th>positivity_gold</th>\n",
       "      <th>relevance_gold</th>\n",
       "      <th>text</th>\n",
       "    </tr>\n",
       "  </thead>\n",
       "  <tbody>\n",
       "    <tr>\n",
       "      <th>0</th>\n",
       "      <td>842613455</td>\n",
       "      <td>False</td>\n",
       "      <td>finalized</td>\n",
       "      <td>3</td>\n",
       "      <td>12/5/15 17:48</td>\n",
       "      <td>3.0</td>\n",
       "      <td>0.6400</td>\n",
       "      <td>yes</td>\n",
       "      <td>0.640</td>\n",
       "      <td>wsj_398217788</td>\n",
       "      <td>8/14/91</td>\n",
       "      <td>Yields on CDs Fell in the Latest Week</td>\n",
       "      <td>NaN</td>\n",
       "      <td>NaN</td>\n",
       "      <td>NEW YORK -- Yields on most certificates of dep...</td>\n",
       "    </tr>\n",
       "    <tr>\n",
       "      <th>1</th>\n",
       "      <td>842613456</td>\n",
       "      <td>False</td>\n",
       "      <td>finalized</td>\n",
       "      <td>3</td>\n",
       "      <td>12/5/15 16:54</td>\n",
       "      <td>NaN</td>\n",
       "      <td>NaN</td>\n",
       "      <td>no</td>\n",
       "      <td>1.000</td>\n",
       "      <td>wsj_399019502</td>\n",
       "      <td>8/21/07</td>\n",
       "      <td>The Morning Brief: White House Seeks to Limit ...</td>\n",
       "      <td>NaN</td>\n",
       "      <td>NaN</td>\n",
       "      <td>The Wall Street Journal Online&lt;/br&gt;&lt;/br&gt;The Mo...</td>\n",
       "    </tr>\n",
       "    <tr>\n",
       "      <th>2</th>\n",
       "      <td>842613457</td>\n",
       "      <td>False</td>\n",
       "      <td>finalized</td>\n",
       "      <td>3</td>\n",
       "      <td>12/5/15 1:59</td>\n",
       "      <td>NaN</td>\n",
       "      <td>NaN</td>\n",
       "      <td>no</td>\n",
       "      <td>1.000</td>\n",
       "      <td>wsj_398284048</td>\n",
       "      <td>11/14/91</td>\n",
       "      <td>Banking Bill Negotiators Set Compromise --- Pl...</td>\n",
       "      <td>NaN</td>\n",
       "      <td>NaN</td>\n",
       "      <td>WASHINGTON -- In an effort to achieve banking ...</td>\n",
       "    </tr>\n",
       "    <tr>\n",
       "      <th>3</th>\n",
       "      <td>842613458</td>\n",
       "      <td>False</td>\n",
       "      <td>finalized</td>\n",
       "      <td>3</td>\n",
       "      <td>12/5/15 2:19</td>\n",
       "      <td>NaN</td>\n",
       "      <td>0.0000</td>\n",
       "      <td>no</td>\n",
       "      <td>0.675</td>\n",
       "      <td>wsj_397959018</td>\n",
       "      <td>6/16/86</td>\n",
       "      <td>Manager's Journal: Sniffing Out Drug Abusers I...</td>\n",
       "      <td>NaN</td>\n",
       "      <td>NaN</td>\n",
       "      <td>The statistics on the enormous costs of employ...</td>\n",
       "    </tr>\n",
       "    <tr>\n",
       "      <th>4</th>\n",
       "      <td>842613459</td>\n",
       "      <td>False</td>\n",
       "      <td>finalized</td>\n",
       "      <td>3</td>\n",
       "      <td>12/5/15 17:48</td>\n",
       "      <td>3.0</td>\n",
       "      <td>0.3257</td>\n",
       "      <td>yes</td>\n",
       "      <td>0.640</td>\n",
       "      <td>wsj_398838054</td>\n",
       "      <td>10/4/02</td>\n",
       "      <td>Currency Trading: Dollar Remains in Tight Rang...</td>\n",
       "      <td>NaN</td>\n",
       "      <td>NaN</td>\n",
       "      <td>NEW YORK -- Indecision marked the dollar's ton...</td>\n",
       "    </tr>\n",
       "  </tbody>\n",
       "</table>\n",
       "</div>"
      ],
      "text/plain": [
       "    _unit_id _golden _unit_state  _trusted_judgments _last_judgment_at  \\\n",
       "0  842613455   False   finalized                   3     12/5/15 17:48   \n",
       "1  842613456   False   finalized                   3     12/5/15 16:54   \n",
       "2  842613457   False   finalized                   3      12/5/15 1:59   \n",
       "3  842613458   False   finalized                   3      12/5/15 2:19   \n",
       "4  842613459   False   finalized                   3     12/5/15 17:48   \n",
       "\n",
       "   positivity  positivity:confidence relevance  relevance:confidence  \\\n",
       "0         3.0                 0.6400       yes                 0.640   \n",
       "1         NaN                    NaN        no                 1.000   \n",
       "2         NaN                    NaN        no                 1.000   \n",
       "3         NaN                 0.0000        no                 0.675   \n",
       "4         3.0                 0.3257       yes                 0.640   \n",
       "\n",
       "       articleid      date                                           headline  \\\n",
       "0  wsj_398217788   8/14/91              Yields on CDs Fell in the Latest Week   \n",
       "1  wsj_399019502   8/21/07  The Morning Brief: White House Seeks to Limit ...   \n",
       "2  wsj_398284048  11/14/91  Banking Bill Negotiators Set Compromise --- Pl...   \n",
       "3  wsj_397959018   6/16/86  Manager's Journal: Sniffing Out Drug Abusers I...   \n",
       "4  wsj_398838054   10/4/02  Currency Trading: Dollar Remains in Tight Rang...   \n",
       "\n",
       "   positivity_gold  relevance_gold  \\\n",
       "0              NaN             NaN   \n",
       "1              NaN             NaN   \n",
       "2              NaN             NaN   \n",
       "3              NaN             NaN   \n",
       "4              NaN             NaN   \n",
       "\n",
       "                                                text  \n",
       "0  NEW YORK -- Yields on most certificates of dep...  \n",
       "1  The Wall Street Journal Online</br></br>The Mo...  \n",
       "2  WASHINGTON -- In an effort to achieve banking ...  \n",
       "3  The statistics on the enormous costs of employ...  \n",
       "4  NEW YORK -- Indecision marked the dollar's ton...  "
      ]
     },
     "execution_count": 24,
     "metadata": {},
     "output_type": "execute_result"
    }
   ],
   "source": [
    "labeled_news.head()"
   ]
  },
  {
   "cell_type": "code",
   "execution_count": 25,
   "metadata": {
    "collapsed": true
   },
   "outputs": [],
   "source": [
    "train_data = labeled_news.loc[labeled_news.relevance == 'yes']"
   ]
  },
  {
   "cell_type": "code",
   "execution_count": 26,
   "metadata": {},
   "outputs": [
    {
     "data": {
      "image/png": "[encoded data removed]",
      "text/plain": [
       "<matplotlib.figure.Figure at 0x12f6a1128>"
      ]
     },
     "metadata": {},
     "output_type": "display_data"
    }
   ],
   "source": [
    "sns.countplot(train_data.positivity)\n",
    "plt.show()"
   ]
  },
  {
   "cell_type": "code",
   "execution_count": 27,
   "metadata": {},
   "outputs": [
    {
     "data": {
      "image/png": "[encoded data removed]",
      "text/plain": [
       "<matplotlib.figure.Figure at 0x12fce2e80>"
      ]
     },
     "metadata": {},
     "output_type": "display_data"
    }
   ],
   "source": [
    "sns.regplot(x='positivity', y = 'positivity:confidence', data = train_data)\n",
    "plt.show()"
   ]
  },
  {
   "cell_type": "code",
   "execution_count": 28,
   "metadata": {},
   "outputs": [
    {
     "data": {
      "image/png": "[encoded data removed]",
      "text/plain": [
       "<matplotlib.figure.Figure at 0x12e711828>"
      ]
     },
     "metadata": {},
     "output_type": "display_data"
    }
   ],
   "source": [
    "sns.boxplot(x = 'positivity', y = 'positivity:confidence', data = train_data )\n",
    "plt.ylim(0, 1.1)\n",
    "plt.show()"
   ]
  },
  {
   "cell_type": "code",
   "execution_count": 29,
   "metadata": {
    "collapsed": true
   },
   "outputs": [],
   "source": [
    "train_data = train_data[['text','positivity','positivity:confidence']]"
   ]
  },
  {
   "cell_type": "markdown",
   "metadata": {},
   "source": [
    "##### Using positivity:confidence as weight for positivity score????"
   ]
  },
  {
   "cell_type": "code",
   "execution_count": 30,
   "metadata": {},
   "outputs": [
    {
     "data": {
      "text/html": [
       "<div>\n",
       "<table border=\"1\" class=\"dataframe\">\n",
       "  <thead>\n",
       "    <tr style=\"text-align: right;\">\n",
       "      <th></th>\n",
       "      <th>text</th>\n",
       "      <th>positivity</th>\n",
       "      <th>positivity:confidence</th>\n",
       "    </tr>\n",
       "  </thead>\n",
       "  <tbody>\n",
       "    <tr>\n",
       "      <th>0</th>\n",
       "      <td>NEW YORK -- Yields on most certificates of dep...</td>\n",
       "      <td>3.0</td>\n",
       "      <td>0.6400</td>\n",
       "    </tr>\n",
       "    <tr>\n",
       "      <th>4</th>\n",
       "      <td>NEW YORK -- Indecision marked the dollar's ton...</td>\n",
       "      <td>3.0</td>\n",
       "      <td>0.3257</td>\n",
       "    </tr>\n",
       "    <tr>\n",
       "      <th>5</th>\n",
       "      <td>Stocks declined, as investors weighed slower-t...</td>\n",
       "      <td>3.0</td>\n",
       "      <td>0.6783</td>\n",
       "    </tr>\n",
       "    <tr>\n",
       "      <th>9</th>\n",
       "      <td>The U.S. dollar declined against most major fo...</td>\n",
       "      <td>4.0</td>\n",
       "      <td>0.6657</td>\n",
       "    </tr>\n",
       "    <tr>\n",
       "      <th>12</th>\n",
       "      <td>Author: James B. Stewart&lt;/br&gt;&lt;/br&gt;The dreaded ...</td>\n",
       "      <td>4.0</td>\n",
       "      <td>0.3388</td>\n",
       "    </tr>\n",
       "  </tbody>\n",
       "</table>\n",
       "</div>"
      ],
      "text/plain": [
       "                                                 text  positivity  \\\n",
       "0   NEW YORK -- Yields on most certificates of dep...         3.0   \n",
       "4   NEW YORK -- Indecision marked the dollar's ton...         3.0   \n",
       "5   Stocks declined, as investors weighed slower-t...         3.0   \n",
       "9   The U.S. dollar declined against most major fo...         4.0   \n",
       "12  Author: James B. Stewart</br></br>The dreaded ...         4.0   \n",
       "\n",
       "    positivity:confidence  \n",
       "0                  0.6400  \n",
       "4                  0.3257  \n",
       "5                  0.6783  \n",
       "9                  0.6657  \n",
       "12                 0.3388  "
      ]
     },
     "execution_count": 30,
     "metadata": {},
     "output_type": "execute_result"
    }
   ],
   "source": [
    "train_data.head()"
   ]
  },
  {
   "cell_type": "code",
   "execution_count": 31,
   "metadata": {},
   "outputs": [
    {
     "name": "stdout",
     "output_type": "stream",
     "text": [
      "(1420, 3)\n"
     ]
    }
   ],
   "source": [
    "# Drop missing values\n",
    "train_data.dropna(inplace=True)\n",
    "print (train_data.shape)"
   ]
  },
  {
   "cell_type": "code",
   "execution_count": 32,
   "metadata": {
    "scrolled": true
   },
   "outputs": [
    {
     "data": {
      "text/html": [
       "<div>\n",
       "<table border=\"1\" class=\"dataframe\">\n",
       "  <thead>\n",
       "    <tr style=\"text-align: right;\">\n",
       "      <th></th>\n",
       "      <th>text</th>\n",
       "      <th>positivity</th>\n",
       "      <th>positivity:confidence</th>\n",
       "      <th>Positively Rated</th>\n",
       "    </tr>\n",
       "  </thead>\n",
       "  <tbody>\n",
       "    <tr>\n",
       "      <th>0</th>\n",
       "      <td>NEW YORK -- Yields on most certificates of dep...</td>\n",
       "      <td>3.0</td>\n",
       "      <td>0.6400</td>\n",
       "      <td>0</td>\n",
       "    </tr>\n",
       "    <tr>\n",
       "      <th>4</th>\n",
       "      <td>NEW YORK -- Indecision marked the dollar's ton...</td>\n",
       "      <td>3.0</td>\n",
       "      <td>0.3257</td>\n",
       "      <td>0</td>\n",
       "    </tr>\n",
       "    <tr>\n",
       "      <th>5</th>\n",
       "      <td>Stocks declined, as investors weighed slower-t...</td>\n",
       "      <td>3.0</td>\n",
       "      <td>0.6783</td>\n",
       "      <td>0</td>\n",
       "    </tr>\n",
       "    <tr>\n",
       "      <th>9</th>\n",
       "      <td>The U.S. dollar declined against most major fo...</td>\n",
       "      <td>4.0</td>\n",
       "      <td>0.6657</td>\n",
       "      <td>0</td>\n",
       "    </tr>\n",
       "    <tr>\n",
       "      <th>12</th>\n",
       "      <td>Author: James B. Stewart&lt;/br&gt;&lt;/br&gt;The dreaded ...</td>\n",
       "      <td>4.0</td>\n",
       "      <td>0.3388</td>\n",
       "      <td>0</td>\n",
       "    </tr>\n",
       "    <tr>\n",
       "      <th>17</th>\n",
       "      <td>NEW YORK -- The dollar sagged yesterday, as ne...</td>\n",
       "      <td>3.0</td>\n",
       "      <td>0.6422</td>\n",
       "      <td>0</td>\n",
       "    </tr>\n",
       "    <tr>\n",
       "      <th>20</th>\n",
       "      <td>The technology industry, an engine of innovati...</td>\n",
       "      <td>7.0</td>\n",
       "      <td>0.6207</td>\n",
       "      <td>1</td>\n",
       "    </tr>\n",
       "    <tr>\n",
       "      <th>21</th>\n",
       "      <td>WASHINGTON -- While acknowledging that the pac...</td>\n",
       "      <td>6.0</td>\n",
       "      <td>0.3571</td>\n",
       "      <td>1</td>\n",
       "    </tr>\n",
       "    <tr>\n",
       "      <th>27</th>\n",
       "      <td>WASHINGTON -- In a sign that inflation remains...</td>\n",
       "      <td>6.0</td>\n",
       "      <td>0.3478</td>\n",
       "      <td>1</td>\n",
       "    </tr>\n",
       "    <tr>\n",
       "      <th>30</th>\n",
       "      <td>WASHINGTON -- Consumer credit in July continue...</td>\n",
       "      <td>6.0</td>\n",
       "      <td>0.3504</td>\n",
       "      <td>1</td>\n",
       "    </tr>\n",
       "  </tbody>\n",
       "</table>\n",
       "</div>"
      ],
      "text/plain": [
       "                                                 text  positivity  \\\n",
       "0   NEW YORK -- Yields on most certificates of dep...         3.0   \n",
       "4   NEW YORK -- Indecision marked the dollar's ton...         3.0   \n",
       "5   Stocks declined, as investors weighed slower-t...         3.0   \n",
       "9   The U.S. dollar declined against most major fo...         4.0   \n",
       "12  Author: James B. Stewart</br></br>The dreaded ...         4.0   \n",
       "17  NEW YORK -- The dollar sagged yesterday, as ne...         3.0   \n",
       "20  The technology industry, an engine of innovati...         7.0   \n",
       "21  WASHINGTON -- While acknowledging that the pac...         6.0   \n",
       "27  WASHINGTON -- In a sign that inflation remains...         6.0   \n",
       "30  WASHINGTON -- Consumer credit in July continue...         6.0   \n",
       "\n",
       "    positivity:confidence  Positively Rated  \n",
       "0                  0.6400                 0  \n",
       "4                  0.3257                 0  \n",
       "5                  0.6783                 0  \n",
       "9                  0.6657                 0  \n",
       "12                 0.3388                 0  \n",
       "17                 0.6422                 0  \n",
       "20                 0.6207                 1  \n",
       "21                 0.3571                 1  \n",
       "27                 0.3478                 1  \n",
       "30                 0.3504                 1  "
      ]
     },
     "execution_count": 32,
     "metadata": {},
     "output_type": "execute_result"
    }
   ],
   "source": [
    "# Remove any 'neutral' ratings equal to 5\n",
    "train_data = train_data.loc[train_data['positivity'] != 5]\n",
    "\n",
    "# Encode 6-9s as 1 (rated positively)\n",
    "# Encode 1-4s as 0 (rated poorly)\n",
    "train_data['Positively Rated'] = np.where(train_data['positivity'] > 5, 1, 0)\n",
    "train_data.head(10)"
   ]
  },
  {
   "cell_type": "code",
   "execution_count": 33,
   "metadata": {},
   "outputs": [
    {
     "data": {
      "text/plain": [
       "0.47901234567901235"
      ]
     },
     "execution_count": 33,
     "metadata": {},
     "output_type": "execute_result"
    }
   ],
   "source": [
    "#The numbers of positive rating and negative rating are quite even\n",
    "train_data['Positively Rated'].mean()"
   ]
  },
  {
   "cell_type": "markdown",
   "metadata": {},
   "source": [
    "### Bag of Words Approach \n",
    "\n"
   ]
  },
  {
   "cell_type": "code",
   "execution_count": 34,
   "metadata": {
    "scrolled": true
   },
   "outputs": [
    {
     "name": "stdout",
     "output_type": "stream",
     "text": [
      "NEW YORK -- Yields on most certificates of deposit offered by major banks dropped more than a tenth of a percentage point in the latest week, reflecting the overall decline in short-term interest rates.</br></br>On small-denomination, or \"consumer,\" CDs sold directly by banks, the average yield on six-month deposits fell to 5.49% from 5.62% in the week ended yesterday, according to an 18-bank survey by Banxquote Money Markets, a Wilmington, Del., information service.</br></br>On three-month \"consumer\" deposits, the average yield sank to 5.29% from 5.42% the week before, according to Banxquote. Two banks in the Banxquote survey, Citibank in New York and CoreStates in Pennsylvania, are paying less than 5% on threemonth small-denomination CDs.</br></br>Declines were somewhat smaller on five-year consumer CDs, which eased to 7.37% from 7.45%, Banxquote said.</br></br>Yields on three-month and six-month Treasury bills sold at Monday's auction plummeted more than a fifth of a percentage point from the previous week, to 5.46% and 5.63%, respectively.\n",
      "NEW YORK -- Yields on most certificates of deposit offered by major banks dropped more than a tenth of a percentage point in the latest week, reflecting the overall decline in short-term interest rates.On small-denomination, or \"consumer,\" CDs sold directly by banks, the average yield on six-month deposits fell to 5.49% from 5.62% in the week ended yesterday, according to an 18-bank survey by Banxquote Money Markets, a Wilmington, Del., information service.On three-month \"consumer\" deposits, the average yield sank to 5.29% from 5.42% the week before, according to Banxquote. Two banks in the Banxquote survey, Citibank in New York and CoreStates in Pennsylvania, are paying less than 5% on threemonth small-denomination CDs.Declines were somewhat smaller on five-year consumer CDs, which eased to 7.37% from 7.45%, Banxquote said.Yields on three-month and six-month Treasury bills sold at Monday's auction plummeted more than a fifth of a percentage point from the previous week, to 5.46% and 5.63%, respectively.\n"
     ]
    }
   ],
   "source": [
    "from bs4 import BeautifulSoup  \n",
    "\n",
    "# Initialize the BeautifulSoup object on a single news   \n",
    "example1 = BeautifulSoup(train_data['text'][0], 'lxml')  \n",
    "\n",
    "# Print the raw review and then the output of get_text(), for \n",
    "# comparison\n",
    "print (train_data['text'][0])\n",
    "print (example1.get_text())\n"
   ]
  },
  {
   "cell_type": "code",
   "execution_count": 35,
   "metadata": {
    "collapsed": true
   },
   "outputs": [],
   "source": [
    "def process_text( raw_news, lemmatizer, stopw ):\n",
    "    '''\n",
    "    Function to convert a raw news to a string of words\n",
    "    The input is a single string (a raw news), and \n",
    "    the output is a single string (a preprocessed news)\n",
    "    '''\n",
    "    from bs4 import BeautifulSoup  \n",
    "    \n",
    "    # Remove HTML\n",
    "    news_text = BeautifulSoup(raw_news,\"lxml\").get_text() \n",
    "\n",
    "    # Remove non-letters        \n",
    "    letters_only = re.sub(\"[^a-zA-Z]\", \" \", news_text) \n",
    "    # Tokenize and clean bag of words:\n",
    "    tokens = word_tokenize(letters_only.lower())\n",
    "    tokens = [lemmatizer.lemmatize(t) for t in tokens]\n",
    "    tokens = [t for t in tokens if t not in stopw]\n",
    "    tokens = [t for t in tokens if len(t)>1]\n",
    "    \n",
    "    return( \" \".join( tokens ))   "
   ]
  },
  {
   "cell_type": "code",
   "execution_count": 36,
   "metadata": {
    "scrolled": false
   },
   "outputs": [
    {
     "data": {
      "text/plain": [
       "'new york yield certificate deposit offered major bank dropped tenth percentage point latest week reflecting overall decline short term interest rate small denomination consumer cd sold directly bank average yield six month deposit fell week ended yesterday according bank survey banxquote money market wilmington del information service three month consumer deposit average yield sank week according banxquote two bank banxquote survey citibank new york corestates pennsylvania paying le threemonth small denomination cd decline somewhat smaller five year consumer cd eased banxquote said yield three month six month treasury bill sold monday auction plummeted fifth percentage point previous week respectively'"
      ]
     },
     "execution_count": 36,
     "metadata": {},
     "output_type": "execute_result"
    }
   ],
   "source": [
    "process_text(train_data['text'][0], lemmatizer, stopw)"
   ]
  },
  {
   "cell_type": "code",
   "execution_count": 37,
   "metadata": {
    "collapsed": true
   },
   "outputs": [],
   "source": [
    "#Apply this to the dataframe\n",
    "train_data['processed_text'] = train_data['text'].apply(lambda t: process_text(t, lemmatizer, stopw))"
   ]
  },
  {
   "cell_type": "code",
   "execution_count": 38,
   "metadata": {
    "scrolled": true
   },
   "outputs": [
    {
     "data": {
      "text/html": [
       "<div>\n",
       "<table border=\"1\" class=\"dataframe\">\n",
       "  <thead>\n",
       "    <tr style=\"text-align: right;\">\n",
       "      <th></th>\n",
       "      <th>text</th>\n",
       "      <th>positivity</th>\n",
       "      <th>positivity:confidence</th>\n",
       "      <th>Positively Rated</th>\n",
       "      <th>processed_text</th>\n",
       "    </tr>\n",
       "  </thead>\n",
       "  <tbody>\n",
       "    <tr>\n",
       "      <th>0</th>\n",
       "      <td>NEW YORK -- Yields on most certificates of dep...</td>\n",
       "      <td>3.0</td>\n",
       "      <td>0.6400</td>\n",
       "      <td>0</td>\n",
       "      <td>new york yield certificate deposit offered maj...</td>\n",
       "    </tr>\n",
       "    <tr>\n",
       "      <th>4</th>\n",
       "      <td>NEW YORK -- Indecision marked the dollar's ton...</td>\n",
       "      <td>3.0</td>\n",
       "      <td>0.3257</td>\n",
       "      <td>0</td>\n",
       "      <td>new york indecision marked dollar tone trader ...</td>\n",
       "    </tr>\n",
       "    <tr>\n",
       "      <th>5</th>\n",
       "      <td>Stocks declined, as investors weighed slower-t...</td>\n",
       "      <td>3.0</td>\n",
       "      <td>0.6783</td>\n",
       "      <td>0</td>\n",
       "      <td>stock declined investor weighed slower expecte...</td>\n",
       "    </tr>\n",
       "    <tr>\n",
       "      <th>9</th>\n",
       "      <td>The U.S. dollar declined against most major fo...</td>\n",
       "      <td>4.0</td>\n",
       "      <td>0.6657</td>\n",
       "      <td>0</td>\n",
       "      <td>dollar declined major foreign currency yesterd...</td>\n",
       "    </tr>\n",
       "    <tr>\n",
       "      <th>12</th>\n",
       "      <td>Author: James B. Stewart&lt;/br&gt;&lt;/br&gt;The dreaded ...</td>\n",
       "      <td>4.0</td>\n",
       "      <td>0.3388</td>\n",
       "      <td>0</td>\n",
       "      <td>author james stewartthe dreaded word back circ...</td>\n",
       "    </tr>\n",
       "  </tbody>\n",
       "</table>\n",
       "</div>"
      ],
      "text/plain": [
       "                                                 text  positivity  \\\n",
       "0   NEW YORK -- Yields on most certificates of dep...         3.0   \n",
       "4   NEW YORK -- Indecision marked the dollar's ton...         3.0   \n",
       "5   Stocks declined, as investors weighed slower-t...         3.0   \n",
       "9   The U.S. dollar declined against most major fo...         4.0   \n",
       "12  Author: James B. Stewart</br></br>The dreaded ...         4.0   \n",
       "\n",
       "    positivity:confidence  Positively Rated  \\\n",
       "0                  0.6400                 0   \n",
       "4                  0.3257                 0   \n",
       "5                  0.6783                 0   \n",
       "9                  0.6657                 0   \n",
       "12                 0.3388                 0   \n",
       "\n",
       "                                       processed_text  \n",
       "0   new york yield certificate deposit offered maj...  \n",
       "4   new york indecision marked dollar tone trader ...  \n",
       "5   stock declined investor weighed slower expecte...  \n",
       "9   dollar declined major foreign currency yesterd...  \n",
       "12  author james stewartthe dreaded word back circ...  "
      ]
     },
     "execution_count": 38,
     "metadata": {},
     "output_type": "execute_result"
    }
   ],
   "source": [
    "train_data.head()"
   ]
  },
  {
   "cell_type": "code",
   "execution_count": 39,
   "metadata": {
    "collapsed": true
   },
   "outputs": [],
   "source": [
    "from sklearn.model_selection import train_test_split\n",
    "\n",
    "# Split data into training and test sets\n",
    "X_train, X_test, y_train, y_test = train_test_split(train_data['processed_text'], \n",
    "                                                    train_data['Positively Rated'], \n",
    "                                                    random_state=4)"
   ]
  },
  {
   "cell_type": "code",
   "execution_count": 40,
   "metadata": {},
   "outputs": [
    {
     "name": "stdout",
     "output_type": "stream",
     "text": [
      "X_train first entry:\n",
      "\n",
      " detroit auto maker mood caution planning build fewer car year fourth quarter last quarter since recession plagued final period shift toward van light truck production account drop car assembly factory schedule nonetheless indicate economy soft landing yet erased fear slump detroit side soft landing soft recovery said mary ann keller auto industry analyst furman selz mager dietz birney new york created pent demand necessary sale boom added big three cautious year end production plan sharply contrast aggressive production schedule set mostly kept earlier year despite criticism analyst schedule unwarranted meanwhile foreign based auto maker continuing trend boosting car production operation japanese auto maker continue account growing portion car production plant owned foreign auto maker operated joint venture company plan build car fourth quarter total car total year ago overbuilding earlier year caused auto maker trim bulging inventory vehicle sponsoring aggressive sale promotion including cash rebate consumer helped reduce inventory analyst say also prompted consumer considering purchasing later year effect fewer car truck sale coming month consumer also slow purchase model model carry sharpest price rise recent year\n",
      "\n",
      "\n",
      "X_train shape:  (911,)\n"
     ]
    }
   ],
   "source": [
    "print('X_train first entry:\\n\\n', X_train.iloc[1])\n",
    "print('\\n\\nX_train shape: ', X_train.shape)"
   ]
  },
  {
   "cell_type": "markdown",
   "metadata": {},
   "source": [
    "#### CountVectorizer"
   ]
  },
  {
   "cell_type": "code",
   "execution_count": 41,
   "metadata": {},
   "outputs": [
    {
     "name": "stdout",
     "output_type": "stream",
     "text": [
      "Number of features: 10079\n",
      "AUC:  0.630161618788\n"
     ]
    }
   ],
   "source": [
    "from sklearn.feature_extraction.text import CountVectorizer\n",
    "from sklearn.linear_model import LogisticRegression\n",
    "from sklearn.metrics import roc_auc_score\n",
    "\n",
    "# Fit the CountVectorizer to the training data\n",
    "vect = CountVectorizer().fit(X_train)\n",
    "print ('Number of features:',len(vect.get_feature_names()))\n",
    "\n",
    "X_train_vectorized = vect.transform(X_train)\n",
    "model = LogisticRegression().fit(X_train_vectorized, y_train)\n",
    "\n",
    "predictions = model.predict(vect.transform(X_test))\n",
    "\n",
    "print('AUC: ', roc_auc_score(y_test, predictions))"
   ]
  },
  {
   "cell_type": "markdown",
   "metadata": {},
   "source": [
    "#### Tfidf"
   ]
  },
  {
   "cell_type": "code",
   "execution_count": 42,
   "metadata": {},
   "outputs": [
    {
     "name": "stdout",
     "output_type": "stream",
     "text": [
      "Number of features: 2595\n",
      "AUC:  0.619155942632\n"
     ]
    }
   ],
   "source": [
    "from sklearn.feature_extraction.text import TfidfVectorizer\n",
    "\n",
    "# Fit the TfidfVectorizer to the training data specifiying a minimum document frequency of 5\n",
    "vect = TfidfVectorizer(min_df=5).fit(X_train)\n",
    "print ('Number of features:',len(vect.get_feature_names()))\n",
    "\n",
    "X_train_vectorized = vect.transform(X_train)\n",
    "\n",
    "# Try Logistic Regression\n",
    "\n",
    "model = LogisticRegression()\n",
    "model.fit(X_train_vectorized, y_train)\n",
    "\n",
    "predictions = model.predict(vect.transform(X_test))\n",
    "\n",
    "print('AUC: ', roc_auc_score(y_test, predictions))"
   ]
  },
  {
   "cell_type": "code",
   "execution_count": 43,
   "metadata": {},
   "outputs": [
    {
     "name": "stdout",
     "output_type": "stream",
     "text": [
      "Grid best parameter (max. accuracy):  {'C': 1, 'gamma': 0.001}\n",
      "Grid best score (accuracy):  0.623490669594\n",
      "Test set AUC:  0.634429568006\n",
      "Grid best parameter (max. AUC):  {'C': 1, 'gamma': 0.001}\n",
      "Grid best score (AUC):  0.645230505419\n"
     ]
    }
   ],
   "source": [
    "# Try Support Vector Classification\n",
    "\n",
    "from sklearn.svm import SVC\n",
    "from sklearn.model_selection import GridSearchCV\n",
    "\n",
    "clf = SVC(kernel='linear')\n",
    "grid_values = {'gamma': [0.001, 0.01, 0.05, 0.1, 1, 10, 100],\n",
    "                'C': [0.001, 0.01, 0.05, 0.1, 1, 10, 100]}\n",
    "\n",
    "# default metric to optimize over grid parameters: accuracy\n",
    "grid_clf_acc = GridSearchCV(clf, param_grid = grid_values)\n",
    "grid_clf_acc.fit(X_train_vectorized, y_train)\n",
    "y_decision_fn_scores_acc = grid_clf_acc.decision_function(vect.transform(X_test)) \n",
    "\n",
    "print('Grid best parameter (max. accuracy): ', grid_clf_acc.best_params_)\n",
    "print('Grid best score (accuracy): ', grid_clf_acc.best_score_)\n",
    "\n",
    "# alternative metric to optimize over grid parameters: AUC\n",
    "grid_clf_auc = GridSearchCV(clf, param_grid = grid_values, scoring = 'roc_auc')\n",
    "grid_clf_auc.fit(X_train_vectorized, y_train)\n",
    "y_predicted_scores_auc = grid_clf_auc.predict(vect.transform(X_test)) \n",
    "\n",
    "print('Test set AUC: ', roc_auc_score(y_test, y_predicted_scores_auc))\n",
    "print('Grid best parameter (max. AUC): ', grid_clf_auc.best_params_)\n",
    "print('Grid best score (AUC): ', grid_clf_auc.best_score_)"
   ]
  },
  {
   "cell_type": "code",
   "execution_count": 45,
   "metadata": {},
   "outputs": [
    {
     "name": "stdout",
     "output_type": "stream",
     "text": [
      "AUC:  0.634429568006\n"
     ]
    }
   ],
   "source": [
    "# Apply the best C and gamma to the SVC model\n",
    "\n",
    "clf = SVC(kernel = 'linear', C = 1, gamma = 0.001)\n",
    "clf.fit(X_train_vectorized, y_train)\n",
    "\n",
    "predictions = clf.predict(vect.transform(X_test))\n",
    "\n",
    "print('AUC: ', roc_auc_score(y_test, predictions))"
   ]
  },
  {
   "cell_type": "markdown",
   "metadata": {
    "collapsed": true
   },
   "source": [
    "### Word2Vec and Doc2Vec Approach \n"
   ]
  },
  {
   "cell_type": "code",
   "execution_count": 524,
   "metadata": {
    "collapsed": true
   },
   "outputs": [],
   "source": [
    "%%cython\n",
    "from gensim.models.keyedvectors import KeyedVectors\n",
    "\n",
    "model = KeyedVectors.load_word2vec_format('GoogleNews-vectors-negative300.bin', binary=True)"
   ]
  },
  {
   "cell_type": "code",
   "execution_count": 525,
   "metadata": {},
   "outputs": [
    {
     "data": {
      "text/plain": [
       "[('smallest', 0.6086567044258118),\n",
       " ('largest', 0.6007465720176697),\n",
       " ('tiny', 0.5387297868728638),\n",
       " ('large', 0.4569440186023712),\n",
       " ('minuscule', 0.434019535779953)]"
      ]
     },
     "execution_count": 525,
     "metadata": {},
     "output_type": "execute_result"
    }
   ],
   "source": [
    "model.most_similar(positive=['biggest','small'], negative=['big'], topn=5)"
   ]
  },
  {
   "cell_type": "code",
   "execution_count": 46,
   "metadata": {},
   "outputs": [
    {
     "data": {
      "text/plain": [
       "466302"
      ]
     },
     "execution_count": 46,
     "metadata": {},
     "output_type": "execute_result"
    }
   ],
   "source": [
    "from gensim.models.word2vec import Word2Vec\n",
    "\n",
    "def cleanText(corpus):\n",
    "    corpus = [z.split() for z in corpus]\n",
    "    return corpus\n",
    "\n",
    "x_train = cleanText(X_train)\n",
    "x_test = cleanText(X_test)\n",
    "\n",
    "n_dim = 200\n",
    "#Initialize model and build vocab\n",
    "finnews_w2v = Word2Vec(size=n_dim, min_count=5)\n",
    "finnews_w2v.build_vocab(x_train)\n",
    "\n",
    "#Train the model \n",
    "token_count = sum([len(news) for news in x_train])\n",
    "finnews_w2v.train(x_train, total_examples = token_count, epochs=finnews_w2v.iter)"
   ]
  },
  {
   "cell_type": "code",
   "execution_count": 47,
   "metadata": {
    "collapsed": true
   },
   "outputs": [],
   "source": [
    "#Build word vector for training set by using the average value of all word vectors in the news, then scale\n",
    "def buildWordVector(text, size):\n",
    "    vec = np.zeros(size).reshape((1, size))\n",
    "    count = 0.\n",
    "    for word in text:\n",
    "        try:\n",
    "            vec += finnews_w2v[word].reshape((1, size))\n",
    "            count += 1.\n",
    "        except KeyError:\n",
    "            continue\n",
    "    if count != 0:\n",
    "        vec /= count\n",
    "    return vec"
   ]
  },
  {
   "cell_type": "code",
   "execution_count": 48,
   "metadata": {},
   "outputs": [],
   "source": [
    "from sklearn.preprocessing import scale\n",
    "train_vecs = np.concatenate([buildWordVector(z, n_dim) for z in x_train])\n",
    "train_vecs = scale(train_vecs)\n",
    "\n",
    "#Train word2vec on test set\n",
    "#token_count_test = sum([len(news) for news in x_test])\n",
    "#finnews_w2v.train(x_test, total_examples = token_count_test, epochs=finnews_w2v.iter)"
   ]
  },
  {
   "cell_type": "code",
   "execution_count": 49,
   "metadata": {
    "collapsed": true
   },
   "outputs": [],
   "source": [
    "#Build test news vectors then scale\n",
    "test_vecs = np.concatenate([buildWordVector(z, n_dim) for z in x_test])\n",
    "test_vecs = scale(test_vecs)"
   ]
  },
  {
   "cell_type": "code",
   "execution_count": 55,
   "metadata": {},
   "outputs": [
    {
     "name": "stdout",
     "output_type": "stream",
     "text": [
      "AUC:  0.56579574505\n"
     ]
    }
   ],
   "source": [
    "# Try Logistic Regression\n",
    "\n",
    "modellr = LogisticRegression()\n",
    "modellr.fit(train_vecs, y_train)\n",
    "\n",
    "predictions = modellr.predict_proba(test_vecs)[:,1]\n",
    "\n",
    "print('AUC: ', roc_auc_score(y_test, predictions))"
   ]
  },
  {
   "cell_type": "code",
   "execution_count": 56,
   "metadata": {},
   "outputs": [
    {
     "data": {
      "image/png": "[encoded data removed]",
      "text/plain": [
       "<matplotlib.figure.Figure at 0x12f60d2b0>"
      ]
     },
     "metadata": {},
     "output_type": "display_data"
    }
   ],
   "source": [
    "#Create ROC curve\n",
    "from sklearn.metrics import roc_curve, auc\n",
    "import matplotlib.pyplot as plt\n",
    "\n",
    "fpr,tpr,_ = roc_curve(y_test, predictions)\n",
    "roc_auc = auc(fpr,tpr)\n",
    "plt.plot(fpr,tpr,label='area = %.2f' %roc_auc)\n",
    "plt.plot([0, 1], [0, 1], 'k--')\n",
    "plt.xlim([0.0, 1.0])\n",
    "plt.ylim([0.0, 1.05])\n",
    "plt.legend(loc='lower right')\n",
    "\n",
    "plt.show()"
   ]
  },
  {
   "cell_type": "code",
   "execution_count": null,
   "metadata": {
    "collapsed": true
   },
   "outputs": [],
   "source": []
  }
 ],
 "metadata": {
  "anaconda-cloud": {},
  "kernelspec": {
   "display_name": "Python [conda root]",
   "language": "python",
   "name": "conda-root-py"
  },
  "language_info": {
   "codemirror_mode": {
    "name": "ipython",
    "version": 3
   },
   "file_extension": ".py",
   "mimetype": "text/x-python",
   "name": "python",
   "nbconvert_exporter": "python",
   "pygments_lexer": "ipython3",
   "version": "3.5.2"
  }
 },
 "nbformat": 4,
 "nbformat_minor": 1
}
